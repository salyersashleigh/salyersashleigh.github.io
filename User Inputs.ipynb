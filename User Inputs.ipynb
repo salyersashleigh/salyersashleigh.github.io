{
 "cells": [
  {
   "cell_type": "markdown",
   "metadata": {},
   "source": [
    "## User Inputs to Determine if Meat is Safe to Consume"
   ]
  },
  {
   "cell_type": "markdown",
   "metadata": {},
   "source": [
    "### Chicken Temperature"
   ]
  },
  {
   "cell_type": "markdown",
   "metadata": {},
   "source": [
    "This Program elicits a Farenheit value of chicken, from a user whose entry is via a keyboard, and then computes if the meat is cooked and safe to consume or not safe to consume."
   ]
  },
  {
   "cell_type": "code",
   "execution_count": 14,
   "metadata": {},
   "outputs": [
    {
     "name": "stdout",
     "output_type": "stream",
     "text": [
      "Enter Fahrenheit Temperature Value: 170\n",
      "Chicken is Safe to Consume\n"
     ]
    }
   ],
   "source": [
    "user_input = input('Enter Fahrenheit Temperature Value: ')\n",
    "user_input = float(user_input)\n",
    "\n",
    "if user_input >= 165:\n",
    "    print('Chicken is Safe to Consume')\n",
    "else:\n",
    "    print('Chicken is Not Safe to Consume')"
   ]
  },
  {
   "cell_type": "markdown",
   "metadata": {},
   "source": [
    "### Beef Temperature"
   ]
  },
  {
   "cell_type": "markdown",
   "metadata": {},
   "source": [
    "This Program elicits a Farenheit value of beef, from a user whose entry is via a keyboard, and then computes if the meat is cooked and safe to consume or not safe to consume."
   ]
  },
  {
   "cell_type": "code",
   "execution_count": 17,
   "metadata": {},
   "outputs": [
    {
     "name": "stdout",
     "output_type": "stream",
     "text": [
      "Enter Fahrenheit Temperature Value: 190\n",
      "Beef is Safe to Consume\n"
     ]
    }
   ],
   "source": [
    "user_input = input('Enter Fahrenheit Temperature Value: ')\n",
    "user_input = float(user_input)\n",
    "\n",
    "if user_input >= 145:\n",
    "    print('Beef is Safe to Consume')\n",
    "else:\n",
    "    print('Beef is Not Safe to Consume')"
   ]
  },
  {
   "cell_type": "markdown",
   "metadata": {},
   "source": [
    "### Pork Temperature"
   ]
  },
  {
   "cell_type": "markdown",
   "metadata": {},
   "source": [
    "This Program elicits a Farenheit value of beef, from a user whose entry is via a keyboard, and then computes if the meat is cooked and safe to consume or not safe to consume."
   ]
  },
  {
   "cell_type": "code",
   "execution_count": 19,
   "metadata": {},
   "outputs": [
    {
     "name": "stdout",
     "output_type": "stream",
     "text": [
      "Enter Fahrenheit Temperature Value: 165\n",
      "Pork is Safe to Consume\n"
     ]
    }
   ],
   "source": [
    "user_input = input('Enter Fahrenheit Temperature Value: ')\n",
    "user_input = float(user_input)\n",
    "\n",
    "if user_input >= 145:\n",
    "    print('Pork is Safe to Consume')\n",
    "else:\n",
    "    print('Pork is Not Safe to Consume')"
   ]
  },
  {
   "cell_type": "code",
   "execution_count": null,
   "metadata": {},
   "outputs": [],
   "source": []
  }
 ],
 "metadata": {
  "kernelspec": {
   "display_name": "Python 3",
   "language": "python",
   "name": "python3"
  },
  "language_info": {
   "codemirror_mode": {
    "name": "ipython",
    "version": 3
   },
   "file_extension": ".py",
   "mimetype": "text/x-python",
   "name": "python",
   "nbconvert_exporter": "python",
   "pygments_lexer": "ipython3",
   "version": "3.8.3"
  }
 },
 "nbformat": 4,
 "nbformat_minor": 4
}
